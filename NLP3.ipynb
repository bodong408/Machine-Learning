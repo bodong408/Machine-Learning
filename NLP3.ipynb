{
  "nbformat": 4,
  "nbformat_minor": 0,
  "metadata": {
    "colab": {
      "name": "NLP3.ipynb",
      "provenance": [],
      "collapsed_sections": [],
      "authorship_tag": "ABX9TyNLGGpL4OB720sEFJsoFkSg",
      "include_colab_link": true
    },
    "kernelspec": {
      "name": "python3",
      "display_name": "Python 3"
    }
  },
  "cells": [
    {
      "cell_type": "markdown",
      "metadata": {
        "id": "view-in-github",
        "colab_type": "text"
      },
      "source": [
        "<a href=\"https://colab.research.google.com/github/bodong408/Machine-Learning/blob/main/NLP3.ipynb\" target=\"_parent\"><img src=\"https://colab.research.google.com/assets/colab-badge.svg\" alt=\"Open In Colab\"/></a>"
      ]
    },
    {
      "cell_type": "code",
      "metadata": {
        "id": "iq4ZUeyjJgB5"
      },
      "source": [
        "import seaborn as sns\n",
        "import pandas as pd\n",
        "import numpy as np\n",
        "\n",
        "from tensorflow.keras.layers import Dense, Dropout, Activation\n",
        "from tensorflow.keras.models import Model, Sequential\n",
        "from tensorflow.keras.optimizers import Adam"
      ],
      "execution_count": 1,
      "outputs": []
    },
    {
      "cell_type": "code",
      "metadata": {
        "id": "Bu2_TSV4Jqcl",
        "outputId": "361b88f2-6467-4d57-b81b-946e216a7e92",
        "colab": {
          "base_uri": "https://localhost:8080/",
          "height": 204
        }
      },
      "source": [
        "iris_data = sns.load_dataset('iris')\n",
        "iris_data.head()"
      ],
      "execution_count": 2,
      "outputs": [
        {
          "output_type": "execute_result",
          "data": {
            "text/html": [
              "<div>\n",
              "<style scoped>\n",
              "    .dataframe tbody tr th:only-of-type {\n",
              "        vertical-align: middle;\n",
              "    }\n",
              "\n",
              "    .dataframe tbody tr th {\n",
              "        vertical-align: top;\n",
              "    }\n",
              "\n",
              "    .dataframe thead th {\n",
              "        text-align: right;\n",
              "    }\n",
              "</style>\n",
              "<table border=\"1\" class=\"dataframe\">\n",
              "  <thead>\n",
              "    <tr style=\"text-align: right;\">\n",
              "      <th></th>\n",
              "      <th>sepal_length</th>\n",
              "      <th>sepal_width</th>\n",
              "      <th>petal_length</th>\n",
              "      <th>petal_width</th>\n",
              "      <th>species</th>\n",
              "    </tr>\n",
              "  </thead>\n",
              "  <tbody>\n",
              "    <tr>\n",
              "      <th>0</th>\n",
              "      <td>5.1</td>\n",
              "      <td>3.5</td>\n",
              "      <td>1.4</td>\n",
              "      <td>0.2</td>\n",
              "      <td>setosa</td>\n",
              "    </tr>\n",
              "    <tr>\n",
              "      <th>1</th>\n",
              "      <td>4.9</td>\n",
              "      <td>3.0</td>\n",
              "      <td>1.4</td>\n",
              "      <td>0.2</td>\n",
              "      <td>setosa</td>\n",
              "    </tr>\n",
              "    <tr>\n",
              "      <th>2</th>\n",
              "      <td>4.7</td>\n",
              "      <td>3.2</td>\n",
              "      <td>1.3</td>\n",
              "      <td>0.2</td>\n",
              "      <td>setosa</td>\n",
              "    </tr>\n",
              "    <tr>\n",
              "      <th>3</th>\n",
              "      <td>4.6</td>\n",
              "      <td>3.1</td>\n",
              "      <td>1.5</td>\n",
              "      <td>0.2</td>\n",
              "      <td>setosa</td>\n",
              "    </tr>\n",
              "    <tr>\n",
              "      <th>4</th>\n",
              "      <td>5.0</td>\n",
              "      <td>3.6</td>\n",
              "      <td>1.4</td>\n",
              "      <td>0.2</td>\n",
              "      <td>setosa</td>\n",
              "    </tr>\n",
              "  </tbody>\n",
              "</table>\n",
              "</div>"
            ],
            "text/plain": [
              "   sepal_length  sepal_width  petal_length  petal_width species\n",
              "0           5.1          3.5           1.4          0.2  setosa\n",
              "1           4.9          3.0           1.4          0.2  setosa\n",
              "2           4.7          3.2           1.3          0.2  setosa\n",
              "3           4.6          3.1           1.5          0.2  setosa\n",
              "4           5.0          3.6           1.4          0.2  setosa"
            ]
          },
          "metadata": {
            "tags": []
          },
          "execution_count": 2
        }
      ]
    },
    {
      "cell_type": "code",
      "metadata": {
        "id": "RuY7cmBqJskK",
        "outputId": "2f339824-6782-46fb-81ac-5a3b0dc86973",
        "colab": {
          "base_uri": "https://localhost:8080/",
          "height": 204
        }
      },
      "source": [
        "X = iris_data.drop(['species'], axis=1)\n",
        "y = pd.get_dummies(iris_data.species, prefix='output')\n",
        "X.head()"
      ],
      "execution_count": 3,
      "outputs": [
        {
          "output_type": "execute_result",
          "data": {
            "text/html": [
              "<div>\n",
              "<style scoped>\n",
              "    .dataframe tbody tr th:only-of-type {\n",
              "        vertical-align: middle;\n",
              "    }\n",
              "\n",
              "    .dataframe tbody tr th {\n",
              "        vertical-align: top;\n",
              "    }\n",
              "\n",
              "    .dataframe thead th {\n",
              "        text-align: right;\n",
              "    }\n",
              "</style>\n",
              "<table border=\"1\" class=\"dataframe\">\n",
              "  <thead>\n",
              "    <tr style=\"text-align: right;\">\n",
              "      <th></th>\n",
              "      <th>sepal_length</th>\n",
              "      <th>sepal_width</th>\n",
              "      <th>petal_length</th>\n",
              "      <th>petal_width</th>\n",
              "    </tr>\n",
              "  </thead>\n",
              "  <tbody>\n",
              "    <tr>\n",
              "      <th>0</th>\n",
              "      <td>5.1</td>\n",
              "      <td>3.5</td>\n",
              "      <td>1.4</td>\n",
              "      <td>0.2</td>\n",
              "    </tr>\n",
              "    <tr>\n",
              "      <th>1</th>\n",
              "      <td>4.9</td>\n",
              "      <td>3.0</td>\n",
              "      <td>1.4</td>\n",
              "      <td>0.2</td>\n",
              "    </tr>\n",
              "    <tr>\n",
              "      <th>2</th>\n",
              "      <td>4.7</td>\n",
              "      <td>3.2</td>\n",
              "      <td>1.3</td>\n",
              "      <td>0.2</td>\n",
              "    </tr>\n",
              "    <tr>\n",
              "      <th>3</th>\n",
              "      <td>4.6</td>\n",
              "      <td>3.1</td>\n",
              "      <td>1.5</td>\n",
              "      <td>0.2</td>\n",
              "    </tr>\n",
              "    <tr>\n",
              "      <th>4</th>\n",
              "      <td>5.0</td>\n",
              "      <td>3.6</td>\n",
              "      <td>1.4</td>\n",
              "      <td>0.2</td>\n",
              "    </tr>\n",
              "  </tbody>\n",
              "</table>\n",
              "</div>"
            ],
            "text/plain": [
              "   sepal_length  sepal_width  petal_length  petal_width\n",
              "0           5.1          3.5           1.4          0.2\n",
              "1           4.9          3.0           1.4          0.2\n",
              "2           4.7          3.2           1.3          0.2\n",
              "3           4.6          3.1           1.5          0.2\n",
              "4           5.0          3.6           1.4          0.2"
            ]
          },
          "metadata": {
            "tags": []
          },
          "execution_count": 3
        }
      ]
    },
    {
      "cell_type": "code",
      "metadata": {
        "id": "3BLvc0NPJuim"
      },
      "source": [
        "X = X.values\n",
        "y = y.values"
      ],
      "execution_count": 4,
      "outputs": []
    },
    {
      "cell_type": "code",
      "metadata": {
        "id": "wjIb-x4eJyUu"
      },
      "source": [
        "from sklearn.model_selection import train_test_split\n",
        "X_train, X_test, y_train, y_test = train_test_split(X, y, test_size=0.20, random_state=42)"
      ],
      "execution_count": 5,
      "outputs": []
    },
    {
      "cell_type": "code",
      "metadata": {
        "id": "EboTqvJwJzSY"
      },
      "source": [
        "from sklearn.preprocessing import StandardScaler\n",
        "sc = StandardScaler()\n",
        "X_train = sc.fit_transform(X_train)\n",
        "X_test = sc.transform(X_test)"
      ],
      "execution_count": 6,
      "outputs": []
    },
    {
      "cell_type": "code",
      "metadata": {
        "id": "2i3rAKSHJ0wu"
      },
      "source": [
        "def create_model_multiple_outs(learning_rate, dropout_rate):\n",
        "\n",
        "    model = Sequential()\n",
        "    model.add(Dense(12, input_dim=X_train.shape[1],  activation='relu'))\n",
        "    model.add(Dropout(dropout_rate))\n",
        "    model.add(Dense(6,  activation='relu'))\n",
        "    model.add(Dropout(dropout_rate))\n",
        "    model.add(Dense(y_train.shape[1], activation='softmax'))\n",
        "\n",
        "    adam = Adam(lr=learning_rate)\n",
        "    model.compile(loss='categorical_crossentropy', optimizer=adam, metrics=['accuracy'])\n",
        "    return model"
      ],
      "execution_count": 7,
      "outputs": []
    },
    {
      "cell_type": "code",
      "metadata": {
        "id": "t8ITfxbYJ5D9"
      },
      "source": [
        "dropout_rate = 0.1\n",
        "epochs = 50\n",
        "batch_size = 1\n",
        "learn_rate = 0.001"
      ],
      "execution_count": 8,
      "outputs": []
    },
    {
      "cell_type": "code",
      "metadata": {
        "id": "Vzl2fcL4J643"
      },
      "source": [
        "\n",
        "model = create_model_multiple_outs(learn_rate, dropout_rate)"
      ],
      "execution_count": 9,
      "outputs": []
    },
    {
      "cell_type": "code",
      "metadata": {
        "id": "SllPGclJKB7V",
        "outputId": "34f10a0d-d572-4e0b-9422-2682d7b0e987",
        "colab": {
          "base_uri": "https://localhost:8080/",
          "height": 1000
        }
      },
      "source": [
        "model_history = model.fit(X_train, y_train, batch_size=batch_size, epochs=epochs, validation_split=0.2, verbose=1)"
      ],
      "execution_count": 10,
      "outputs": [
        {
          "output_type": "stream",
          "text": [
            "Epoch 1/50\n",
            "96/96 [==============================] - 0s 3ms/step - loss: 0.8184 - accuracy: 0.6250 - val_loss: 0.7139 - val_accuracy: 0.7500\n",
            "Epoch 2/50\n",
            "96/96 [==============================] - 0s 1ms/step - loss: 0.6409 - accuracy: 0.6771 - val_loss: 0.6074 - val_accuracy: 0.7083\n",
            "Epoch 3/50\n",
            "96/96 [==============================] - 0s 1ms/step - loss: 0.5931 - accuracy: 0.6875 - val_loss: 0.5366 - val_accuracy: 0.7500\n",
            "Epoch 4/50\n",
            "96/96 [==============================] - 0s 1ms/step - loss: 0.5340 - accuracy: 0.7292 - val_loss: 0.4852 - val_accuracy: 0.8333\n",
            "Epoch 5/50\n",
            "96/96 [==============================] - 0s 1ms/step - loss: 0.5290 - accuracy: 0.7500 - val_loss: 0.4385 - val_accuracy: 0.9167\n",
            "Epoch 6/50\n",
            "96/96 [==============================] - 0s 1ms/step - loss: 0.4686 - accuracy: 0.8229 - val_loss: 0.3980 - val_accuracy: 0.9167\n",
            "Epoch 7/50\n",
            "96/96 [==============================] - 0s 1ms/step - loss: 0.4463 - accuracy: 0.8021 - val_loss: 0.3628 - val_accuracy: 0.9583\n",
            "Epoch 8/50\n",
            "96/96 [==============================] - 0s 1ms/step - loss: 0.3877 - accuracy: 0.8542 - val_loss: 0.3343 - val_accuracy: 1.0000\n",
            "Epoch 9/50\n",
            "96/96 [==============================] - 0s 1ms/step - loss: 0.3750 - accuracy: 0.8958 - val_loss: 0.3140 - val_accuracy: 0.9583\n",
            "Epoch 10/50\n",
            "96/96 [==============================] - 0s 1ms/step - loss: 0.3679 - accuracy: 0.8750 - val_loss: 0.2918 - val_accuracy: 1.0000\n",
            "Epoch 11/50\n",
            "96/96 [==============================] - 0s 1ms/step - loss: 0.3692 - accuracy: 0.8750 - val_loss: 0.2697 - val_accuracy: 1.0000\n",
            "Epoch 12/50\n",
            "96/96 [==============================] - 0s 1ms/step - loss: 0.3191 - accuracy: 0.8750 - val_loss: 0.2653 - val_accuracy: 0.9583\n",
            "Epoch 13/50\n",
            "96/96 [==============================] - 0s 1ms/step - loss: 0.3247 - accuracy: 0.8958 - val_loss: 0.2456 - val_accuracy: 0.9583\n",
            "Epoch 14/50\n",
            "96/96 [==============================] - 0s 1ms/step - loss: 0.2854 - accuracy: 0.8958 - val_loss: 0.2330 - val_accuracy: 0.9583\n",
            "Epoch 15/50\n",
            "96/96 [==============================] - 0s 1ms/step - loss: 0.3201 - accuracy: 0.8958 - val_loss: 0.2161 - val_accuracy: 0.9583\n",
            "Epoch 16/50\n",
            "96/96 [==============================] - 0s 1ms/step - loss: 0.2523 - accuracy: 0.9062 - val_loss: 0.2016 - val_accuracy: 0.9583\n",
            "Epoch 17/50\n",
            "96/96 [==============================] - 0s 1ms/step - loss: 0.2825 - accuracy: 0.8750 - val_loss: 0.1893 - val_accuracy: 0.9583\n",
            "Epoch 18/50\n",
            "96/96 [==============================] - 0s 1ms/step - loss: 0.2414 - accuracy: 0.9062 - val_loss: 0.1876 - val_accuracy: 0.9583\n",
            "Epoch 19/50\n",
            "96/96 [==============================] - 0s 1ms/step - loss: 0.2225 - accuracy: 0.9167 - val_loss: 0.1652 - val_accuracy: 0.9583\n",
            "Epoch 20/50\n",
            "96/96 [==============================] - 0s 1ms/step - loss: 0.2289 - accuracy: 0.9375 - val_loss: 0.1664 - val_accuracy: 0.9583\n",
            "Epoch 21/50\n",
            "96/96 [==============================] - 0s 1ms/step - loss: 0.2311 - accuracy: 0.8958 - val_loss: 0.1509 - val_accuracy: 0.9583\n",
            "Epoch 22/50\n",
            "96/96 [==============================] - 0s 1ms/step - loss: 0.2295 - accuracy: 0.9167 - val_loss: 0.1570 - val_accuracy: 0.9583\n",
            "Epoch 23/50\n",
            "96/96 [==============================] - 0s 1ms/step - loss: 0.2634 - accuracy: 0.9271 - val_loss: 0.1464 - val_accuracy: 0.9583\n",
            "Epoch 24/50\n",
            "96/96 [==============================] - 0s 1ms/step - loss: 0.2008 - accuracy: 0.9479 - val_loss: 0.1410 - val_accuracy: 0.9583\n",
            "Epoch 25/50\n",
            "96/96 [==============================] - 0s 1ms/step - loss: 0.2031 - accuracy: 0.9375 - val_loss: 0.1463 - val_accuracy: 0.9583\n",
            "Epoch 26/50\n",
            "96/96 [==============================] - 0s 1ms/step - loss: 0.2250 - accuracy: 0.8854 - val_loss: 0.1535 - val_accuracy: 0.9583\n",
            "Epoch 27/50\n",
            "96/96 [==============================] - 0s 1ms/step - loss: 0.2570 - accuracy: 0.8750 - val_loss: 0.1501 - val_accuracy: 0.9583\n",
            "Epoch 28/50\n",
            "96/96 [==============================] - 0s 1ms/step - loss: 0.1798 - accuracy: 0.9479 - val_loss: 0.1501 - val_accuracy: 0.9583\n",
            "Epoch 29/50\n",
            "96/96 [==============================] - 0s 1ms/step - loss: 0.2266 - accuracy: 0.9167 - val_loss: 0.1487 - val_accuracy: 0.9583\n",
            "Epoch 30/50\n",
            "96/96 [==============================] - 0s 1ms/step - loss: 0.1922 - accuracy: 0.9375 - val_loss: 0.1478 - val_accuracy: 0.9583\n",
            "Epoch 31/50\n",
            "96/96 [==============================] - 0s 1ms/step - loss: 0.2359 - accuracy: 0.9271 - val_loss: 0.1399 - val_accuracy: 0.9583\n",
            "Epoch 32/50\n",
            "96/96 [==============================] - 0s 1ms/step - loss: 0.1764 - accuracy: 0.9479 - val_loss: 0.1408 - val_accuracy: 0.9583\n",
            "Epoch 33/50\n",
            "96/96 [==============================] - 0s 1ms/step - loss: 0.1555 - accuracy: 0.9375 - val_loss: 0.1535 - val_accuracy: 0.9583\n",
            "Epoch 34/50\n",
            "96/96 [==============================] - 0s 1ms/step - loss: 0.1929 - accuracy: 0.9062 - val_loss: 0.1333 - val_accuracy: 0.9583\n",
            "Epoch 35/50\n",
            "96/96 [==============================] - 0s 1ms/step - loss: 0.1943 - accuracy: 0.9271 - val_loss: 0.1342 - val_accuracy: 0.9583\n",
            "Epoch 36/50\n",
            "96/96 [==============================] - 0s 1ms/step - loss: 0.1650 - accuracy: 0.9375 - val_loss: 0.1333 - val_accuracy: 0.9583\n",
            "Epoch 37/50\n",
            "96/96 [==============================] - 0s 1ms/step - loss: 0.1499 - accuracy: 0.9479 - val_loss: 0.1329 - val_accuracy: 0.9583\n",
            "Epoch 38/50\n",
            "96/96 [==============================] - 0s 1ms/step - loss: 0.1874 - accuracy: 0.9583 - val_loss: 0.1256 - val_accuracy: 0.9583\n",
            "Epoch 39/50\n",
            "96/96 [==============================] - 0s 1ms/step - loss: 0.1479 - accuracy: 0.9583 - val_loss: 0.1340 - val_accuracy: 0.9583\n",
            "Epoch 40/50\n",
            "96/96 [==============================] - 0s 1ms/step - loss: 0.1866 - accuracy: 0.9271 - val_loss: 0.1551 - val_accuracy: 0.9583\n",
            "Epoch 41/50\n",
            "96/96 [==============================] - 0s 1ms/step - loss: 0.1711 - accuracy: 0.9271 - val_loss: 0.1348 - val_accuracy: 0.9583\n",
            "Epoch 42/50\n",
            "96/96 [==============================] - 0s 1ms/step - loss: 0.1465 - accuracy: 0.9479 - val_loss: 0.1487 - val_accuracy: 0.9583\n",
            "Epoch 43/50\n",
            "96/96 [==============================] - 0s 1ms/step - loss: 0.1728 - accuracy: 0.9375 - val_loss: 0.1354 - val_accuracy: 0.9583\n",
            "Epoch 44/50\n",
            "96/96 [==============================] - 0s 1ms/step - loss: 0.1314 - accuracy: 0.9583 - val_loss: 0.1616 - val_accuracy: 0.9583\n",
            "Epoch 45/50\n",
            "96/96 [==============================] - 0s 1ms/step - loss: 0.1821 - accuracy: 0.9271 - val_loss: 0.1217 - val_accuracy: 0.9583\n",
            "Epoch 46/50\n",
            "96/96 [==============================] - 0s 1ms/step - loss: 0.2013 - accuracy: 0.9167 - val_loss: 0.1192 - val_accuracy: 0.9583\n",
            "Epoch 47/50\n",
            "96/96 [==============================] - 0s 1ms/step - loss: 0.1183 - accuracy: 0.9583 - val_loss: 0.1252 - val_accuracy: 0.9583\n",
            "Epoch 48/50\n",
            "96/96 [==============================] - 0s 1ms/step - loss: 0.1206 - accuracy: 0.9688 - val_loss: 0.1223 - val_accuracy: 0.9583\n",
            "Epoch 49/50\n",
            "96/96 [==============================] - 0s 1ms/step - loss: 0.1437 - accuracy: 0.9479 - val_loss: 0.1246 - val_accuracy: 0.9583\n",
            "Epoch 50/50\n",
            "96/96 [==============================] - 0s 1ms/step - loss: 0.1191 - accuracy: 0.9792 - val_loss: 0.1269 - val_accuracy: 0.9583\n"
          ],
          "name": "stdout"
        }
      ]
    },
    {
      "cell_type": "code",
      "metadata": {
        "id": "CIxanm87LIaq",
        "outputId": "86b3d9a1-b79a-423f-d34d-6e5233e7095f",
        "colab": {
          "base_uri": "https://localhost:8080/",
          "height": 34
        }
      },
      "source": [
        "accuracies = model.evaluate(X_test, y_test, verbose=1)\n",
        "print(accuracies)"
      ],
      "execution_count": 12,
      "outputs": [
        {
          "output_type": "stream",
          "text": [
            "[0.0555504634976387, 1.0]\n"
          ],
          "name": "stdout"
        }
      ]
    },
    {
      "cell_type": "code",
      "metadata": {
        "id": "0i55xcyxLxWh",
        "outputId": "20f7a244-9c1d-42d8-f237-2541c36accef",
        "colab": {
          "base_uri": "https://localhost:8080/",
          "height": 644
        }
      },
      "source": [
        "model = create_model_multiple_outs(learn_rate, dropout_rate)\n",
        "from tensorflow.keras.utils import plot_model\n",
        "plot_model(model, to_file='model_plot1.png', show_shapes=True, show_layer_names=True)"
      ],
      "execution_count": 14,
      "outputs": [
        {
          "output_type": "execute_result",
          "data": {
            "image/png": "[encoded data removed]",
            "text/plain": [
              "<IPython.core.display.Image object>"
            ]
          },
          "metadata": {
            "tags": []
          },
          "execution_count": 14
        }
      ]
    },
    {
      "cell_type": "code",
      "metadata": {
        "id": "lFlrMG3YPeKh",
        "outputId": "7a721883-f542-40e3-f894-7027d865b093",
        "colab": {
          "base_uri": "https://localhost:8080/",
          "height": 282
        }
      },
      "source": [
        "import matplotlib.pyplot as plt\n",
        "plt.plot(model_history.history['accuracy'], label='accuracy')\n",
        "plt.plot(model_history.history['val_accuracy'], label='val_accuracy')\n",
        "plt.legend(['train','test'], loc='lower left')"
      ],
      "execution_count": 15,
      "outputs": [
        {
          "output_type": "execute_result",
          "data": {
            "text/plain": [
              "<matplotlib.legend.Legend at 0x7fd06b110390>"
            ]
          },
          "metadata": {
            "tags": []
          },
          "execution_count": 15
        },
        {
          "output_type": "display_data",
          "data": {
            "image/png": "[encoded data removed]",
            "text/plain": [
              "<Figure size 432x288 with 1 Axes>"
            ]
          },
          "metadata": {
            "tags": [],
            "needs_background": "light"
          }
        }
      ]
    },
    {
      "cell_type": "code",
      "metadata": {
        "id": "lgW5Vm9TP645",
        "outputId": "3428b023-e96d-4a05-ae85-716eabc9454e",
        "colab": {
          "base_uri": "https://localhost:8080/",
          "height": 282
        }
      },
      "source": [
        "import matplotlib.pyplot as plt\n",
        "plt.plot(model_history.history['loss'], label='loss')\n",
        "plt.plot(model_history.history['val_loss'], label='val_loss')\n",
        "plt.legend(['train','test'], loc='upper right')"
      ],
      "execution_count": 17,
      "outputs": [
        {
          "output_type": "execute_result",
          "data": {
            "text/plain": [
              "<matplotlib.legend.Legend at 0x7fd06abc4320>"
            ]
          },
          "metadata": {
            "tags": []
          },
          "execution_count": 17
        },
        {
          "output_type": "display_data",
          "data": {
            "image/png": "[encoded data removed]",
            "text/plain": [
              "<Figure size 432x288 with 1 Axes>"
            ]
          },
          "metadata": {
            "tags": [],
            "needs_background": "light"
          }
        }
      ]
    }
  ]
}