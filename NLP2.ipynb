{
  "nbformat": 4,
  "nbformat_minor": 0,
  "metadata": {
    "colab": {
      "name": "NLP2.ipynb",
      "provenance": [],
      "collapsed_sections": [],
      "authorship_tag": "ABX9TyNNNA9ONvW/u3f7dYiOP9ly",
      "include_colab_link": true
    },
    "kernelspec": {
      "name": "python3",
      "display_name": "Python 3"
    },
    "accelerator": "GPU"
  },
  "cells": [
    {
      "cell_type": "markdown",
      "metadata": {
        "id": "view-in-github",
        "colab_type": "text"
      },
      "source": [
        "<a href=\"https://colab.research.google.com/github/bodong408/Machine-Learning/blob/main/NLP2.ipynb\" target=\"_parent\"><img src=\"https://colab.research.google.com/assets/colab-badge.svg\" alt=\"Open In Colab\"/></a>"
      ]
    },
    {
      "cell_type": "code",
      "metadata": {
        "id": "UKi5u2VWig2W",
        "outputId": "eda4b364-6c59-49f6-c25b-dc8ce04f5054",
        "colab": {
          "base_uri": "https://localhost:8080/",
          "height": 445
        }
      },
      "source": [
        "from sklearn import datasets\n",
        "import numpy as np\n",
        "import matplotlib.pyplot as plt\n",
        "%matplotlib inline\n",
        "\n",
        "np.random.seed(0)\n",
        "X, y = datasets.make_moons(100, noise=0.10)\n",
        "x1 = X[:,0]\n",
        "x2 = X[:,1]\n",
        "\n",
        "plt.figure(figsize=(10,7))\n",
        "plt.scatter(x1, x2, c= y, cmap=plt.cm.coolwarm)\n"
      ],
      "execution_count": 14,
      "outputs": [
        {
          "output_type": "execute_result",
          "data": {
            "text/plain": [
              "<matplotlib.collections.PathCollection at 0x7fb6a4953748>"
            ]
          },
          "metadata": {
            "tags": []
          },
          "execution_count": 14
        },
        {
          "output_type": "display_data",
          "data": {
            "image/png": "[encoded data removed]",
            "text/plain": [
              "<Figure size 720x504 with 1 Axes>"
            ]
          },
          "metadata": {
            "tags": [],
            "needs_background": "light"
          }
        }
      ]
    },
    {
      "cell_type": "code",
      "metadata": {
        "id": "BS31qZBctHrr"
      },
      "source": [
        "y = y.reshape(y.shape[0],1)"
      ],
      "execution_count": 16,
      "outputs": []
    },
    {
      "cell_type": "code",
      "metadata": {
        "id": "FBAvMVe_tRle",
        "outputId": "a03aefd3-b267-4820-f8cb-a12f7ab2f0ae",
        "colab": {
          "base_uri": "https://localhost:8080/",
          "height": 34
        }
      },
      "source": [
        "y.shape"
      ],
      "execution_count": 18,
      "outputs": [
        {
          "output_type": "execute_result",
          "data": {
            "text/plain": [
              "(100, 1)"
            ]
          },
          "metadata": {
            "tags": []
          },
          "execution_count": 18
        }
      ]
    },
    {
      "cell_type": "code",
      "metadata": {
        "id": "o1s7Y009tThH",
        "outputId": "32714d26-7f56-40eb-b3a3-8cb28395d8a3",
        "colab": {
          "base_uri": "https://localhost:8080/",
          "height": 51
        }
      },
      "source": [
        "print(X.shape)\n",
        "print(y.shape)"
      ],
      "execution_count": 19,
      "outputs": [
        {
          "output_type": "stream",
          "text": [
            "(100, 2)\n",
            "(100, 1)\n"
          ],
          "name": "stdout"
        }
      ]
    },
    {
      "cell_type": "code",
      "metadata": {
        "id": "-NVJQ8fa3Uad"
      },
      "source": [
        "def define_parameters(weights):\n",
        "    weight_list = []\n",
        "    bias_list = []\n",
        "    for i in range(len(weights) - 1):\n",
        "        \n",
        "        w = np.random.randn(weights[i], weights[i+1])\n",
        "        b = np.random.randn()\n",
        "\n",
        "        weight_list.append(w)\n",
        "        bias_list.append(b)\n",
        "    \n",
        "    return weight_list, bias_list"
      ],
      "execution_count": 17,
      "outputs": []
    },
    {
      "cell_type": "code",
      "metadata": {
        "id": "BunYbTuT36_j"
      },
      "source": [
        "def sigmoid(x):\n",
        "    return 1/(1+np.exp(-x))"
      ],
      "execution_count": 18,
      "outputs": []
    },
    {
      "cell_type": "code",
      "metadata": {
        "id": "kOZS6BDL4C9s"
      },
      "source": [
        "def sigmoid_der(x):\n",
        "    return sigmoid(x)*(1-sigmoid(x))"
      ],
      "execution_count": 19,
      "outputs": []
    },
    {
      "cell_type": "code",
      "metadata": {
        "id": "1WB0io-Y4Ltf"
      },
      "source": [
        "def predictions(w, b, X):\n",
        "    zh = np.dot(X,w[0]) + b[0]\n",
        "    ah = sigmoid(zh)\n",
        "\n",
        "    zo = np.dot(ah, w[1]) + b[1]\n",
        "    ao = sigmoid(zo)\n",
        "    return ao"
      ],
      "execution_count": 20,
      "outputs": []
    },
    {
      "cell_type": "code",
      "metadata": {
        "id": "naMQHqjG5IZY"
      },
      "source": [
        "def find_cost(ao,y):\n",
        "    m = y.shape[0]\n",
        "    total_cost = (1/m) * np.sum(np.square(ao - y))\n",
        "    return total_cost"
      ],
      "execution_count": 21,
      "outputs": []
    },
    {
      "cell_type": "code",
      "metadata": {
        "id": "XqK16B3g5O6H"
      },
      "source": [
        "def find_derivatives(w, b, X):\n",
        "\n",
        "    zh = np.dot(X,w[0]) + b[0]\n",
        "    ah = sigmoid(zh)\n",
        "\n",
        "    zo = np.dot(ah, w[1]) + b[1]\n",
        "    ao = sigmoid(zo)\n",
        "\n",
        "    # Back propagation phase 1\n",
        "    m = y.shape[0]\n",
        "    dcost_dao = (1/m)*(ao-y)\n",
        "    dao_dzo = sigmoid_der(zo)\n",
        "    dzo_dwo = ah.T\n",
        "   \n",
        "    dwo =  np.dot(dzo_dwo, dcost_dao * dao_dzo)\n",
        "    dbo = np.sum(dcost_dao * dao_dzo)\n",
        "    \n",
        "    # Back propagation phase 2\n",
        "    \n",
        "    # dcost_wh = dcost_dah * dah_dzh * dzh_dwh\n",
        "    # dcost_dah = dcost_dzo * dzo_dah\n",
        "\n",
        "    dcost_dzo = dcost_dao * dao_dzo\n",
        "    dzo_dah = w[1].T\n",
        "\n",
        "    dcost_dah = np.dot(dcost_dzo ,  dzo_dah)\n",
        "\n",
        "    dah_dzh = sigmoid_der(zh) \n",
        "    dzh_dwh = X.T\n",
        "    dwh = np.dot(dzh_dwh, dah_dzh * dcost_dah)\n",
        "    dbh = np.sum(dah_dzh * dcost_dah)\n",
        "\n",
        "    return dwh, dbh, dwo, dbo"
      ],
      "execution_count": 22,
      "outputs": []
    },
    {
      "cell_type": "code",
      "metadata": {
        "id": "orEdY15M6g1q"
      },
      "source": [
        "def update_weights(w,b,dwh, dbh, dwo, dbo, lr):\n",
        "    w[0] = w[0] - lr * dwh\n",
        "    w[1] = w[1] - lr * dwo\n",
        "\n",
        "    b[0] = b[0] - lr * dbh\n",
        "    b[1] = b[1] - lr * dbo\n",
        "\n",
        "    return w, b\n"
      ],
      "execution_count": 23,
      "outputs": []
    },
    {
      "cell_type": "code",
      "metadata": {
        "id": "cdlxuFrz7EAy"
      },
      "source": [
        "def my_neural_network(X, y, lr, epochs):\n",
        "    error_list = []\n",
        "    input_len = X.shape[1]\n",
        "    output_len = y.shape[1]\n",
        "    w,b = define_parameters([input_len, 4, output_len])\n",
        "\n",
        "    for i in range(epochs):\n",
        "        ao = predictions(w, b, X)\n",
        "        cost = find_cost(ao, y)\n",
        "        error_list.append(cost)\n",
        "        dwh, dbh, dwo, dbo = find_derivatives (w, b, X)\n",
        "        w, b = update_weights(w, b, dwh, dbh, dwo, dbo,  lr )\n",
        "        if i % 50 == 0 :\n",
        "            print(cost)\n",
        "            \n",
        "    return w, b, error_list"
      ],
      "execution_count": 24,
      "outputs": []
    },
    {
      "cell_type": "code",
      "metadata": {
        "id": "g71BDlWC8H1m",
        "outputId": "58c19dc7-bde5-475d-a998-f581a13751be",
        "colab": {
          "base_uri": "https://localhost:8080/",
          "height": 697
        }
      },
      "source": [
        "lr = 0.5\n",
        "epochs = 2000\n",
        "w, b, error_list = my_neural_network(X,y,lr,epochs)"
      ],
      "execution_count": 25,
      "outputs": [
        {
          "output_type": "stream",
          "text": [
            "0.420576773526906\n",
            "0.1465387851789338\n",
            "0.12617746238650168\n",
            "0.11570597079471208\n",
            "0.10850813272509596\n",
            "0.10337608010852294\n",
            "0.09958560452217739\n",
            "0.09670335366165751\n",
            "0.09446206947265266\n",
            "0.0926891984440786\n",
            "0.09126791271989423\n",
            "0.09011580416073578\n",
            "0.08917288078317867\n",
            "0.0883944589996478\n",
            "0.08774670296567845\n",
            "0.08720366848471853\n",
            "0.08674525781893187\n",
            "0.08635576132720636\n",
            "0.08602279652438301\n",
            "0.08573652577983962\n",
            "0.08548907373090579\n",
            "0.08527408984725415\n",
            "0.08508641749767577\n",
            "0.08492184175007911\n",
            "0.08477689577303969\n",
            "0.08464871114727117\n",
            "0.08453490130214526\n",
            "0.08443347011357041\n",
            "0.08434273974659046\n",
            "0.08426129331873805\n",
            "0.0841879290544539\n",
            "0.08412162340775241\n",
            "0.08406150122892356\n",
            "0.0840068114979951\n",
            "0.08395690748351937\n",
            "0.08391123043924369\n",
            "0.0838692961445392\n",
            "0.08383068374251368\n",
            "0.08379502644380786\n",
            "0.08376200375248426\n"
          ],
          "name": "stdout"
        }
      ]
    },
    {
      "cell_type": "code",
      "metadata": {
        "id": "f3RhWbGECW0k",
        "outputId": "294d02e9-f517-48f7-b5e8-9d2bc8425d2c",
        "colab": {
          "base_uri": "https://localhost:8080/",
          "height": 282
        }
      },
      "source": [
        "plt.plot(error_list)"
      ],
      "execution_count": 26,
      "outputs": [
        {
          "output_type": "execute_result",
          "data": {
            "text/plain": [
              "[<matplotlib.lines.Line2D at 0x7fb69cc23240>]"
            ]
          },
          "metadata": {
            "tags": []
          },
          "execution_count": 26
        },
        {
          "output_type": "display_data",
          "data": {
            "image/png": "[encoded data removed]",
            "text/plain": [
              "<Figure size 432x288 with 1 Axes>"
            ]
          },
          "metadata": {
            "tags": [],
            "needs_background": "light"
          }
        }
      ]
    }
  ]
}